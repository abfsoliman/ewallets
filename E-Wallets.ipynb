{
 "cells": [
  {
   "cell_type": "markdown",
   "id": "84ff551c",
   "metadata": {},
   "source": [
    "# E-Wallets"
   ]
  },
  {
   "cell_type": "markdown",
   "id": "c90df1dc",
   "metadata": {},
   "source": [
    "## 1- Introduction\n",
    "\n",
    "E-payments became more and more popular among users after the pandemic in 2020, which led to \n",
    "more investments in this sector. E-wallets represent a huge field in this sector. As shown below, e-wallets growth over the year 2020 is approx. 19.8%\n",
    "\n",
    "Orange Cash, as a leading player in such field, is the main focus of this case study."
   ]
  },
  {
   "attachments": {
    "image.png": {
     "image/png": "[encoded data removed]"
    }
   },
   "cell_type": "markdown",
   "id": "6e08be5b",
   "metadata": {},
   "source": [
    "![image.png](attachment:image.png)"
   ]
  },
  {
   "cell_type": "markdown",
   "id": "8befaf4a",
   "metadata": {},
   "source": [
    "## 2- Dashboards\n",
    "\n",
    "The following section aims to dig deeper into the data provided and report the findings visually to get some insights that might help in storytelling and recommendations."
   ]
  },
  {
   "cell_type": "markdown",
   "id": "e316e7a1",
   "metadata": {},
   "source": [
    "### 1- Marketshare\n",
    "\n",
    "This dashboard studies the Marketshare data among the 4 companies competing in this field (Vodafone, Orange, We, Etisalat)."
   ]
  },
  {
   "cell_type": "code",
   "execution_count": 21,
   "id": "8d189ce1",
   "metadata": {},
   "outputs": [
    {
     "data": {
      "text/html": [
       "<div class='tableauPlaceholder' id='viz1697044153308' style='position: relative'><noscript><a href='#'><img alt='MarketShare Dashboard ' src='https:&#47;&#47;public.tableau.com&#47;static&#47;images&#47;Or&#47;OrangeCashData&#47;Marketshare&#47;1_rss.png' style='border: none' /></a></noscript><object class='tableauViz'  style='display:none;'><param name='host_url' value='https%3A%2F%2Fpublic.tableau.com%2F' /> <param name='embed_code_version' value='3' /> <param name='site_root' value='' /><param name='name' value='OrangeCashData&#47;Marketshare' /><param name='tabs' value='no' /><param name='toolbar' value='yes' /><param name='static_image' value='https:&#47;&#47;public.tableau.com&#47;static&#47;images&#47;Or&#47;OrangeCashData&#47;Marketshare&#47;1.png' /> <param name='animate_transition' value='yes' /><param name='display_static_image' value='yes' /><param name='display_spinner' value='yes' /><param name='display_overlay' value='yes' /><param name='display_count' value='yes' /><param name='language' value='en-US' /><param name='filter' value='publish=yes' /></object></div>                <script type='text/javascript'>                    var divElement = document.getElementById('viz1697044153308');                    var vizElement = divElement.getElementsByTagName('object')[0];                    if ( divElement.offsetWidth > 800 ) { vizElement.style.width='100%';vizElement.style.height=(divElement.offsetWidth*0.75)+'px';} else if ( divElement.offsetWidth > 500 ) { vizElement.style.width='100%';vizElement.style.height=(divElement.offsetWidth*0.75)+'px';} else { vizElement.style.width='100%';vizElement.style.height='1427px';}                     var scriptElement = document.createElement('script');                    scriptElement.src = 'https://public.tableau.com/javascripts/api/viz_v1.js';                    vizElement.parentNode.insertBefore(scriptElement, vizElement);                </script>\n"
      ],
      "text/plain": [
       "<IPython.core.display.HTML object>"
      ]
     },
     "metadata": {},
     "output_type": "display_data"
    }
   ],
   "source": [
    "%%html\n",
    "<div class='tableauPlaceholder' id='viz1697044153308' style='position: relative'><noscript><a href='#'><img alt='MarketShare Dashboard ' src='https:&#47;&#47;public.tableau.com&#47;static&#47;images&#47;Or&#47;OrangeCashData&#47;Marketshare&#47;1_rss.png' style='border: none' /></a></noscript><object class='tableauViz'  style='display:none;'><param name='host_url' value='https%3A%2F%2Fpublic.tableau.com%2F' /> <param name='embed_code_version' value='3' /> <param name='site_root' value='' /><param name='name' value='OrangeCashData&#47;Marketshare' /><param name='tabs' value='no' /><param name='toolbar' value='yes' /><param name='static_image' value='https:&#47;&#47;public.tableau.com&#47;static&#47;images&#47;Or&#47;OrangeCashData&#47;Marketshare&#47;1.png' /> <param name='animate_transition' value='yes' /><param name='display_static_image' value='yes' /><param name='display_spinner' value='yes' /><param name='display_overlay' value='yes' /><param name='display_count' value='yes' /><param name='language' value='en-US' /><param name='filter' value='publish=yes' /></object></div>                <script type='text/javascript'>                    var divElement = document.getElementById('viz1697044153308');                    var vizElement = divElement.getElementsByTagName('object')[0];                    if ( divElement.offsetWidth > 800 ) { vizElement.style.width='100%';vizElement.style.height=(divElement.offsetWidth*0.75)+'px';} else if ( divElement.offsetWidth > 500 ) { vizElement.style.width='100%';vizElement.style.height=(divElement.offsetWidth*0.75)+'px';} else { vizElement.style.width='100%';vizElement.style.height='1427px';}                     var scriptElement = document.createElement('script');                    scriptElement.src = 'https://public.tableau.com/javascripts/api/viz_v1.js';                    vizElement.parentNode.insertBefore(scriptElement, vizElement);                </script>"
   ]
  },
  {
   "cell_type": "markdown",
   "id": "436f8e7f",
   "metadata": {},
   "source": [
    "This dashboard shows the following KPIs regarding **Overall E-Wallet Providers' Transactions, Growth, and Market Share**:\n",
    "\n",
    "    1-Count of the total transactions processes carried out per month for each wallet provider. \n",
    "    2-New wallets per month for each wallet provider.\n",
    "    3-Count of the total wallets per month for each wallet provider.\n",
    "    4-Growth in wallets count over the year by measuring the difference between January and December data for wallets for each wallet provider.\n",
    "    5-Percentage of wallets among the market for each wallet provider."
   ]
  },
  {
   "cell_type": "markdown",
   "id": "39719951",
   "metadata": {},
   "source": [
    "### 2- Orange Cash payments\n",
    "\n",
    "This dashboard looks more into Orange Cash detailed payments data."
   ]
  },
  {
   "cell_type": "code",
   "execution_count": 22,
   "id": "58832613",
   "metadata": {},
   "outputs": [
    {
     "data": {
      "text/html": [
       "<div class='tableauPlaceholder' id='viz1697043902982' style='position: relative'><noscript><a href='#'><img alt='Orange cash payments ' src='https:&#47;&#47;public.tableau.com&#47;static&#47;images&#47;Or&#47;OrangeCashData&#47;Orangecashpayments&#47;1_rss.png' style='border: none' /></a></noscript><object class='tableauViz'  style='display:none;'><param name='host_url' value='https%3A%2F%2Fpublic.tableau.com%2F' /> <param name='embed_code_version' value='3' /> <param name='site_root' value='' /><param name='name' value='OrangeCashData&#47;Orangecashpayments' /><param name='tabs' value='no' /><param name='toolbar' value='yes' /><param name='static_image' value='https:&#47;&#47;public.tableau.com&#47;static&#47;images&#47;Or&#47;OrangeCashData&#47;Orangecashpayments&#47;1.png' /> <param name='animate_transition' value='yes' /><param name='display_static_image' value='yes' /><param name='display_spinner' value='yes' /><param name='display_overlay' value='yes' /><param name='display_count' value='yes' /><param name='language' value='en-US' /><param name='filter' value='publish=yes' /></object></div>                <script type='text/javascript'>                    var divElement = document.getElementById('viz1697043902982');                    var vizElement = divElement.getElementsByTagName('object')[0];                    if ( divElement.offsetWidth > 800 ) { vizElement.style.width='1520px';vizElement.style.minHeight='587px';vizElement.style.maxHeight='887px';vizElement.style.height=(divElement.offsetWidth*0.75)+'px';} else if ( divElement.offsetWidth > 500 ) { vizElement.style.width='1520px';vizElement.style.minHeight='587px';vizElement.style.maxHeight='887px';vizElement.style.height=(divElement.offsetWidth*0.75)+'px';} else { vizElement.style.width='100%';vizElement.style.height='1327px';}                     var scriptElement = document.createElement('script');                    scriptElement.src = 'https://public.tableau.com/javascripts/api/viz_v1.js';                    vizElement.parentNode.insertBefore(scriptElement, vizElement);                </script>\n"
      ],
      "text/plain": [
       "<IPython.core.display.HTML object>"
      ]
     },
     "metadata": {},
     "output_type": "display_data"
    }
   ],
   "source": [
    "%%html\n",
    "<div class='tableauPlaceholder' id='viz1697043902982' style='position: relative'><noscript><a href='#'><img alt='Orange cash payments ' src='https:&#47;&#47;public.tableau.com&#47;static&#47;images&#47;Or&#47;OrangeCashData&#47;Orangecashpayments&#47;1_rss.png' style='border: none' /></a></noscript><object class='tableauViz'  style='display:none;'><param name='host_url' value='https%3A%2F%2Fpublic.tableau.com%2F' /> <param name='embed_code_version' value='3' /> <param name='site_root' value='' /><param name='name' value='OrangeCashData&#47;Orangecashpayments' /><param name='tabs' value='no' /><param name='toolbar' value='yes' /><param name='static_image' value='https:&#47;&#47;public.tableau.com&#47;static&#47;images&#47;Or&#47;OrangeCashData&#47;Orangecashpayments&#47;1.png' /> <param name='animate_transition' value='yes' /><param name='display_static_image' value='yes' /><param name='display_spinner' value='yes' /><param name='display_overlay' value='yes' /><param name='display_count' value='yes' /><param name='language' value='en-US' /><param name='filter' value='publish=yes' /></object></div>                <script type='text/javascript'>                    var divElement = document.getElementById('viz1697043902982');                    var vizElement = divElement.getElementsByTagName('object')[0];                    if ( divElement.offsetWidth > 800 ) { vizElement.style.width='1520px';vizElement.style.minHeight='587px';vizElement.style.maxHeight='887px';vizElement.style.height=(divElement.offsetWidth*0.75)+'px';} else if ( divElement.offsetWidth > 500 ) { vizElement.style.width='1520px';vizElement.style.minHeight='587px';vizElement.style.maxHeight='887px';vizElement.style.height=(divElement.offsetWidth*0.75)+'px';} else { vizElement.style.width='100%';vizElement.style.height='1327px';}                     var scriptElement = document.createElement('script');                    scriptElement.src = 'https://public.tableau.com/javascripts/api/viz_v1.js';                    vizElement.parentNode.insertBefore(scriptElement, vizElement);                </script>"
   ]
  },
  {
   "cell_type": "markdown",
   "id": "33e83005",
   "metadata": {},
   "source": [
    "This dashboard shows the following KPIs regarding **Orange Cash Transactions Demographic Analysis**:\n",
    "\n",
    "    1-Classification of the total transactions processes carried out by each gender and age group using Orange Cash.\n",
    "    2-Total transactions amount carried out by each gender as per their district using Orange Cash.\n",
    "    3-Count of total transactions processes carried out by each gender as per their district using Orange Cash.\n",
    "    4-Count of new customers signing up for Orange Cash each month as per their gender."
   ]
  },
  {
   "cell_type": "markdown",
   "id": "054f2155",
   "metadata": {},
   "source": [
    "### 3- Payment Details\n",
    "\n",
    "This dashboard aims to dig deep into the payment details data among the 4 companies competing in this field (Vodafone, Orange, We, Etisalat)."
   ]
  },
  {
   "cell_type": "code",
   "execution_count": 23,
   "id": "5dfdd33c",
   "metadata": {},
   "outputs": [
    {
     "data": {
      "text/html": [
       "<div class='tableauPlaceholder' id='viz1697045907238' style='position: relative'><noscript><a href='#'><img alt='Payments Details ' src='https:&#47;&#47;public.tableau.com&#47;static&#47;images&#47;Or&#47;OrangeCashData&#47;PaymentsDetails&#47;1_rss.png' style='border: none' /></a></noscript><object class='tableauViz'  style='display:none;'><param name='host_url' value='https%3A%2F%2Fpublic.tableau.com%2F' /> <param name='embed_code_version' value='3' /> <param name='site_root' value='' /><param name='name' value='OrangeCashData&#47;PaymentsDetails' /><param name='tabs' value='no' /><param name='toolbar' value='yes' /><param name='static_image' value='https:&#47;&#47;public.tableau.com&#47;static&#47;images&#47;Or&#47;OrangeCashData&#47;PaymentsDetails&#47;1.png' /> <param name='animate_transition' value='yes' /><param name='display_static_image' value='yes' /><param name='display_spinner' value='yes' /><param name='display_overlay' value='yes' /><param name='display_count' value='yes' /><param name='language' value='en-US' /></object></div>                <script type='text/javascript'>                    var divElement = document.getElementById('viz1697045907238');                    var vizElement = divElement.getElementsByTagName('object')[0];                    if ( divElement.offsetWidth > 800 ) { vizElement.style.width='100%';vizElement.style.height=(divElement.offsetWidth*0.75)+'px';} else if ( divElement.offsetWidth > 500 ) { vizElement.style.width='100%';vizElement.style.height=(divElement.offsetWidth*0.75)+'px';} else { vizElement.style.width='100%';vizElement.style.height='777px';}                     var scriptElement = document.createElement('script');                    scriptElement.src = 'https://public.tableau.com/javascripts/api/viz_v1.js';                    vizElement.parentNode.insertBefore(scriptElement, vizElement);                </script>\n"
      ],
      "text/plain": [
       "<IPython.core.display.HTML object>"
      ]
     },
     "metadata": {},
     "output_type": "display_data"
    }
   ],
   "source": [
    "%%html\n",
    "<div class='tableauPlaceholder' id='viz1697045907238' style='position: relative'><noscript><a href='#'><img alt='Payments Details ' src='https:&#47;&#47;public.tableau.com&#47;static&#47;images&#47;Or&#47;OrangeCashData&#47;PaymentsDetails&#47;1_rss.png' style='border: none' /></a></noscript><object class='tableauViz'  style='display:none;'><param name='host_url' value='https%3A%2F%2Fpublic.tableau.com%2F' /> <param name='embed_code_version' value='3' /> <param name='site_root' value='' /><param name='name' value='OrangeCashData&#47;PaymentsDetails' /><param name='tabs' value='no' /><param name='toolbar' value='yes' /><param name='static_image' value='https:&#47;&#47;public.tableau.com&#47;static&#47;images&#47;Or&#47;OrangeCashData&#47;PaymentsDetails&#47;1.png' /> <param name='animate_transition' value='yes' /><param name='display_static_image' value='yes' /><param name='display_spinner' value='yes' /><param name='display_overlay' value='yes' /><param name='display_count' value='yes' /><param name='language' value='en-US' /></object></div>                <script type='text/javascript'>                    var divElement = document.getElementById('viz1697045907238');                    var vizElement = divElement.getElementsByTagName('object')[0];                    if ( divElement.offsetWidth > 800 ) { vizElement.style.width='100%';vizElement.style.height=(divElement.offsetWidth*0.75)+'px';} else if ( divElement.offsetWidth > 500 ) { vizElement.style.width='100%';vizElement.style.height=(divElement.offsetWidth*0.75)+'px';} else { vizElement.style.width='100%';vizElement.style.height='777px';}                     var scriptElement = document.createElement('script');                    scriptElement.src = 'https://public.tableau.com/javascripts/api/viz_v1.js';                    vizElement.parentNode.insertBefore(scriptElement, vizElement);                </script>"
   ]
  },
  {
   "cell_type": "markdown",
   "id": "76b9d9e6",
   "metadata": {},
   "source": [
    "This dashboard shows the following KPIs regarding **E-wallets Payments Categorized Analysis**:\n",
    "\n",
    "    1-the difference between cash in and cash out processes carried out by users per each company.\n",
    "    2-the categorization of each payment process carried out by users per each company.\n"
   ]
  },
  {
   "cell_type": "markdown",
   "id": "5ff70a4d",
   "metadata": {},
   "source": [
    "## 3- Recommendations\n",
    "<br>\n",
    "1. As shown in the charts above, utilities bills are the least favorite payment type among users. This can be turned to Orange’s advantage in promoting such a service among its users as there’s no strong competition in this field.<br><br> \n",
    "2. Also, as it’s shown that the above 50s age group represent a huge percentage of Orange Cash users, they can be targeted to use the utilities bills payments in order to avoid the hassle of the offline payments process.<br><br>\n",
    "3. As Orange Cash is considered as a banking service for non-banking customers, so the districts of lower income can be motivated to use the service much more in order to establish a strong market share in non-covered areas.<br><br>\n",
    "4. Growth data for Orange Cash shows consistency over the year, which can’t be considered as a good indication taking into consideration that other competitors achieve more growth over the year. Therefore, encouraging more customers to open new wallets is a huge necessity. This can be done by targeting the age groups which represent the most common Orange Cash users."
   ]
  }
 ],
 "metadata": {
  "kernelspec": {
   "display_name": "Python 3 (ipykernel)",
   "language": "python",
   "name": "python3"
  },
  "language_info": {
   "codemirror_mode": {
    "name": "ipython",
    "version": 3
   },
   "file_extension": ".py",
   "mimetype": "text/x-python",
   "name": "python",
   "nbconvert_exporter": "python",
   "pygments_lexer": "ipython3",
   "version": "3.9.12"
  }
 },
 "nbformat": 4,
 "nbformat_minor": 5
}
